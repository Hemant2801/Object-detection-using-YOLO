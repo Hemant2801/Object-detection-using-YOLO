{
 "cells": [
  {
   "cell_type": "code",
   "execution_count": 1,
   "metadata": {
    "id": "xlteCqag-yf4"
   },
   "outputs": [],
   "source": [
    "import cv2\n",
    "import numpy as np\n",
    "import matplotlib.pyplot as plt"
   ]
  },
  {
   "cell_type": "code",
   "execution_count": 2,
   "metadata": {
    "colab": {
     "base_uri": "https://localhost:8080/",
     "height": 35
    },
    "id": "iiNyDkvXBonB",
    "outputId": "e8c86653-a93d-4ec2-bc1b-7c0cf4f1d664"
   },
   "outputs": [
    {
     "data": {
      "text/plain": [
       "'4.5.5'"
      ]
     },
     "execution_count": 2,
     "metadata": {},
     "output_type": "execute_result"
    }
   ],
   "source": [
    "cv2.__version__"
   ]
  },
  {
   "cell_type": "code",
   "execution_count": 3,
   "metadata": {
    "id": "mzHkGoL3M7iC"
   },
   "outputs": [],
   "source": [
    "conf_threshold = 0.5\n",
    "nms = 0.3\n",
    "def find_objects(image):\n",
    "    height, width, channels = image.shape\n",
    "    bounding_box = []\n",
    "    class_id = []\n",
    "    conf = []\n",
    "\n",
    "    outputs = model_imp(image)\n",
    "\n",
    "    for output in outputs:\n",
    "        for det in output:\n",
    "            scores = det[5:]\n",
    "            classid = np.argmax(scores)\n",
    "            confidence = scores[classid]\n",
    "            if confidence > conf_threshold:\n",
    "                w, h = int(det[2] * width), int(det[3] * height)\n",
    "                x, y = int((det[0] * width) - w/2), int((det[1] * height) - h/2)\n",
    "                bounding_box.append([x, y, w, h])\n",
    "                class_id.append(classid)\n",
    "                conf.append(float(confidence))\n",
    "    indices = cv2.dnn.NMSBoxes(bounding_box, conf, conf_threshold, nms_threshold = nms)\n",
    "    #print(indices)\n",
    "    for i in indices:\n",
    "        #i = i[0]\n",
    "        box = bounding_box[i]\n",
    "        x, y, w, h = box[0], box[1], box[2], box[3]\n",
    "        cv2.rectangle(image, (x, y), (x + w, y + h), (255, 0, 255), 2)\n",
    "        cv2.putText(image, f'{classes[class_id[i]].upper()} {conf[i] * 100}%', (x, y - 10), cv2.FONT_HERSHEY_SIMPLEX, 0.6, (255, 0 ,255), 2)\n",
    "\n",
    "def model_imp(img):\n",
    "    width, height= 320, 320\n",
    "    yolo = cv2.dnn.readNet('yolov3-tiny.weights', 'yolov3-tiny.cfg')\n",
    "    yolo.setPreferableBackend(cv2.dnn.DNN_BACKEND_OPENCV)\n",
    "    yolo.setPreferableTarget(cv2.dnn.DNN_TARGET_CPU)\n",
    "\n",
    "    blob = cv2.dnn.blobFromImage(img, 1/255, (width, height), [0,0,0], 1, crop = False)\n",
    "\n",
    "    yolo.setInput(blob)\n",
    "    layers_name = yolo.getLayerNames()\n",
    "    output_names = [layers_name[i - 1] for i in yolo.getUnconnectedOutLayers()]\n",
    "    outputs = yolo.forward(output_names)\n",
    "\n",
    "    return outputs"
   ]
  },
  {
   "cell_type": "code",
   "execution_count": 4,
   "metadata": {
    "id": "StA0Up6SCMPh"
   },
   "outputs": [
    {
     "name": "stdout",
     "output_type": "stream",
     "text": [
      "[0]\n"
     ]
    },
    {
     "data": {
      "text/plain": [
       "-1"
      ]
     },
     "execution_count": 4,
     "metadata": {},
     "output_type": "execute_result"
    }
   ],
   "source": [
    "img = cv2.imread('dog.jpg')\n",
    "\n",
    "Classes = []\n",
    "with open('coco.names', 'r') as f:\n",
    "    classes = f.read().splitlines()\n",
    "\n",
    "find_objects(img)\n",
    "cv2.imshow('frame',img)\n",
    "cv2.waitKey(0)"
   ]
  },
  {
   "cell_type": "code",
   "execution_count": 5,
   "metadata": {},
   "outputs": [
    {
     "name": "stdout",
     "output_type": "stream",
     "text": [
      "()\n",
      "()\n",
      "[0]\n",
      "[0]\n",
      "[0]\n",
      "[0]\n",
      "[0]\n",
      "[0]\n",
      "()\n",
      "()\n",
      "()\n",
      "()\n",
      "()\n",
      "[0]\n",
      "[0]\n",
      "()\n",
      "()\n",
      "()\n",
      "()\n",
      "()\n",
      "()\n",
      "()\n",
      "()\n",
      "()\n",
      "[0]\n",
      "()\n",
      "()\n",
      "()\n",
      "()\n",
      "()\n",
      "[0]\n",
      "()\n",
      "()\n",
      "()\n",
      "[0]\n",
      "()\n",
      "()\n",
      "()\n",
      "()\n",
      "()\n",
      "()\n",
      "()\n",
      "()\n",
      "()\n",
      "()\n",
      "()\n",
      "()\n",
      "()\n",
      "()\n",
      "()\n",
      "()\n",
      "()\n",
      "()\n",
      "()\n",
      "()\n",
      "()\n",
      "()\n",
      "()\n",
      "()\n",
      "[0]\n",
      "[0]\n",
      "()\n",
      "()\n",
      "()\n",
      "()\n",
      "()\n",
      "()\n",
      "()\n",
      "()\n",
      "()\n",
      "()\n",
      "()\n",
      "()\n",
      "()\n",
      "()\n",
      "()\n",
      "()\n",
      "()\n",
      "()\n",
      "()\n",
      "()\n",
      "()\n",
      "()\n",
      "()\n",
      "()\n",
      "()\n",
      "[0]\n",
      "()\n",
      "()\n",
      "()\n",
      "()\n",
      "()\n",
      "()\n",
      "()\n",
      "()\n",
      "()\n",
      "()\n",
      "[0]\n",
      "()\n",
      "()\n",
      "()\n",
      "()\n",
      "()\n",
      "()\n",
      "()\n",
      "()\n",
      "()\n",
      "()\n",
      "()\n",
      "()\n",
      "()\n",
      "()\n",
      "()\n",
      "()\n",
      "()\n",
      "()\n",
      "()\n",
      "()\n",
      "()\n",
      "()\n",
      "()\n",
      "()\n",
      "()\n",
      "()\n",
      "()\n",
      "()\n",
      "()\n",
      "()\n",
      "()\n",
      "()\n",
      "()\n",
      "()\n",
      "()\n",
      "()\n",
      "()\n",
      "()\n",
      "()\n",
      "()\n",
      "()\n",
      "()\n",
      "[0]\n",
      "()\n"
     ]
    }
   ],
   "source": [
    "#for video\n",
    "Classes = []\n",
    "with open('coco.names', 'r') as f:\n",
    "    classes = f.read().splitlines()\n",
    "    \n",
    "cam = cv2.VideoCapture(0)\n",
    "if not cam.isOpened():\n",
    "    cam = cv2.VideoCapture(0)\n",
    "    if not cam.isOpened():\n",
    "        print('ERROR............')\n",
    "while(True):\n",
    "    _, frame = cam.read()\n",
    "    find_objects(frame)\n",
    "    cv2.imshow('FRAME', frame)\n",
    "    if cv2.waitKey(1) & 0xFF == ord('q'):\n",
    "        break\n",
    "cam.release()\n",
    "cv2.destroyAllWindows()"
   ]
  },
  {
   "cell_type": "code",
   "execution_count": null,
   "metadata": {},
   "outputs": [],
   "source": []
  }
 ],
 "metadata": {
  "colab": {
   "name": "Yolo.ipynb",
   "provenance": []
  },
  "kernelspec": {
   "display_name": "Python 3",
   "language": "python",
   "name": "python3"
  },
  "language_info": {
   "codemirror_mode": {
    "name": "ipython",
    "version": 3
   },
   "file_extension": ".py",
   "mimetype": "text/x-python",
   "name": "python",
   "nbconvert_exporter": "python",
   "pygments_lexer": "ipython3",
   "version": "3.8.8"
  }
 },
 "nbformat": 4,
 "nbformat_minor": 1
}
